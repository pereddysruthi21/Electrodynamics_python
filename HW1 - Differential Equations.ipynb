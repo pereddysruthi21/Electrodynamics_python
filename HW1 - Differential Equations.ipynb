{
 "cells": [
  {
   "cell_type": "markdown",
   "metadata": {},
   "source": [
    "# Homework Assignment 1 -  Solutions to Differential Equations for a Baseball"
   ]
  },
  {
   "cell_type": "markdown",
   "metadata": {},
   "source": [
    "## Python Starter"
   ]
  },
  {
   "cell_type": "markdown",
   "metadata": {},
   "source": [
    "Importing needed modules into Jupyter notebook (make sure to install extentions on codespace!)"
   ]
  },
  {
   "cell_type": "code",
   "execution_count": null,
   "metadata": {},
   "outputs": [],
   "source": [
    "import numpy as np #numpy\n",
    "import matplotlib.pyplot as plt #matplotlib "
   ]
  },
  {
   "cell_type": "markdown",
   "metadata": {},
   "source": [
    "Defining functions"
   ]
  },
  {
   "cell_type": "code",
   "execution_count": null,
   "metadata": {},
   "outputs": [],
   "source": [
    "def Quadratic(x,param):\n",
    "    a,b,c = param\n",
    "    return a*x**2+b*x+c"
   ]
  },
  {
   "cell_type": "code",
   "execution_count": null,
   "metadata": {},
   "outputs": [],
   "source": [
    "Quadratic(7,[2,1,-10]) # use [] when defining multiple variables for one parameter "
   ]
  },
  {
   "cell_type": "markdown",
   "metadata": {},
   "source": [
    "Creating function data"
   ]
  },
  {
   "cell_type": "code",
   "execution_count": null,
   "metadata": {},
   "outputs": [],
   "source": [
    "xvalues=np.arange(-3,3.1,0.1) # to generate list of equidistant numbers, must add a step to the desired end value\n",
    "# np.linspace may have also been used, used to define number of steps rather that the step value"
   ]
  },
  {
   "cell_type": "code",
   "execution_count": null,
   "metadata": {},
   "outputs": [],
   "source": [
    "yvalues=Quadratic(xvalues,[2,1,-10])"
   ]
  },
  {
   "cell_type": "markdown",
   "metadata": {},
   "source": [
    "Plotting function"
   ]
  },
  {
   "cell_type": "code",
   "execution_count": null,
   "metadata": {},
   "outputs": [],
   "source": [
    "#plot\n",
    "fig, ax = plt.subplots()\n",
    "\n",
    "ax.plot(xvalues, yvalues, linewidth=2.0) #defining plot parameters\n",
    "plt.show()"
   ]
  },
  {
   "cell_type": "markdown",
   "metadata": {},
   "source": [
    "## No Friction"
   ]
  },
  {
   "cell_type": "markdown",
   "metadata": {},
   "source": [
    "### Analytical Solution"
   ]
  },
  {
   "cell_type": "markdown",
   "metadata": {},
   "source": [
    "Solving $y\\\"(t)=-g$ using given analytical solution (used help from: https://github.com/Omjuice/OmjuicyElectrodynamics_python/blob/main/SolvingDiffrentialEquations.ipynb)"
   ]
  },
  {
   "cell_type": "code",
   "execution_count": null,
   "metadata": {},
   "outputs": [],
   "source": [
    "def analytical_solution(t,g,v0,y0): #solution of y''(t) = -g\n",
    "    return -0.5* g * t**2 + v0 * t + y0\n"
   ]
  },
  {
   "cell_type": "markdown",
   "metadata": {},
   "source": [
    "Defining given values"
   ]
  },
  {
   "cell_type": "code",
   "execution_count": null,
   "metadata": {},
   "outputs": [],
   "source": [
    "g = 9.81\n",
    "h = 30 #initial height ball is being dropped from\n",
    "v0_val = [-3,0,10]\n",
    "t = np.linspace (0,5,20)\n",
    "print (t)\n",
    "y0 = 30"
   ]
  },
  {
   "cell_type": "code",
   "execution_count": null,
   "metadata": {},
   "outputs": [],
   "source": [
    "for v0 in v0_val: #use for loop for known number of iterators\n",
    "    y_values = analytical_solution (t, g, v0, h)\n",
    "    plt.plot(t, y_values, label=f'Initial Velocity: {v0} m/s') #come back and define lowest y-val to be 0\n",
    "\n",
    "#labeling plot\n",
    "plt.xlabel('Time (s)')\n",
    "plt.ylabel('Position (m)')\n",
    "plt.legend()\n",
    "plt.title('Position vs Time for Different Initial Velocities')\n",
    "plt.show()"
   ]
  },
  {
   "cell_type": "markdown",
   "metadata": {},
   "source": [
    "### Computational Solution"
   ]
  },
  {
   "cell_type": "markdown",
   "metadata": {},
   "source": [
    "Tutorial used: https://www.youtube.com/watch?v=MM3cBamj1Ms&ab_channel=Mr.PSolver"
   ]
  },
  {
   "cell_type": "code",
   "execution_count": null,
   "metadata": {},
   "outputs": [],
   "source": [
    "import scipy as sp\n",
    "from scipy.integrate import odeint as od"
   ]
  },
  {
   "cell_type": "code",
   "execution_count": null,
   "metadata": {},
   "outputs": [],
   "source": [
    "def dSdt(t,S): #defining a vector to solve coupled ODEs\n",
    "    y, v = S #vector components -> check homework notes for converting second order to first order\n",
    "    return[v, -9.81] #defining vector \n",
    "\n",
    "for v0 in v0_val:\n",
    "    S0 = (y0, v0) #initial conditions of vector\n",
    "    sol = od(dSdt, y0=S0, t=t, tfirst=True) #computational solution using odeint\n",
    "    y_sol = sol.T[0] #extracts solutions for y component of S (y'(t) = v)\n",
    "    plt.plot(t, y_sol, label=f'Initial Velocity(C): {v0} m/s')\n",
    "\n",
    "for v0 in v0_val: #testing against analytical solution\n",
    "    y_values = analytical_solution (t, g, v0, h)\n",
    "    plt.scatter(t, y_values, label=f'Initial Velocity (A): {v0} m/s')\n",
    "\n",
    "plt.xlabel('Time (s)')\n",
    "plt.ylabel('Position (m)')\n",
    "plt.legend()\n",
    "plt.title('Position vs Time for Different Initial Velocities')\n",
    "plt.show()\n",
    "\n",
    "#success!"
   ]
  },
  {
   "cell_type": "markdown",
   "metadata": {},
   "source": [
    "## With Friction"
   ]
  },
  {
   "cell_type": "markdown",
   "metadata": {},
   "source": [
    "Solving $\\\"y=-mg-γ y'(t)$ using computational (used help from: https://github.com/Omjuice/OmjuicyElectrodynamics_python/blob/main/SolvingDiffrentialEquations.ipynb)"
   ]
  },
  {
   "cell_type": "code",
   "execution_count": null,
   "metadata": {},
   "outputs": [],
   "source": [
    "g = 9.81\n",
    "gamma = 0.009 # thanks Om! <- derived via Stokes Law\n",
    "h = 30 #initial height ball is being dropped from\n",
    "v0_val = [-3,0,10]\n",
    "t = np.linspace (0,5,100)\n",
    "m = 0.145\n",
    "y0 = 30"
   ]
  },
  {
   "cell_type": "code",
   "execution_count": null,
   "metadata": {},
   "outputs": [],
   "source": [
    "def dFdt(t,F): #defining a vector to solve coupled ODEs\n",
    "    y, v = F #vector components -> check homework notes for converting second order to first order\n",
    "    return[v, -g - (gamma/m) * v] #defining vector \n",
    "    #defined y0 and v0 earlier\n",
    "\n",
    "def solwfriction(t, ysol): # from Om\n",
    "    impact_indices = np.where(y_sol <= 0)[0]\n",
    "    if len(impact_indices) == 0:\n",
    "    # If the ball doesn't reach the ground, return None\n",
    "        return None\n",
    "    impact_index = impact_indices[0]\n",
    "    # Interpolate to get a more accurate estimate of the impact time\n",
    "    impact_time = np.interp(0, y_sol[impact_index-1:impact_index+1], t[impact_index-1:impact_index+1])\n",
    "    return impact_time\n",
    "\n",
    "for v0 in v0_val:\n",
    "    F0 = (y0, v0) #initial conditions of vector\n",
    "    newSol = od(dFdt, y0=F0, t=t, tfirst=True) #computational solution using odeint\n",
    "    ysol = newSol.T[0] #extracts solutions for y component of S (y'(t) = v)\n",
    "    print(solwfriction(t, ysol))\n",
    "    plt.plot(t, ysol, label=f'Initial Velocity(C): {v0} m/s')\n",
    "\n",
    "plt.xlabel('Time (s)')\n",
    "plt.ylabel('Position (m)')\n",
    "plt.legend()\n",
    "plt.title('Position vs Time for Different Initial Velocities')\n",
    "plt.show()"
   ]
  }
 ],
 "metadata": {
  "kernelspec": {
   "display_name": "Python 3",
   "language": "python",
   "name": "python3"
  },
  "language_info": {
   "codemirror_mode": {
    "name": "ipython",
    "version": 3
   },
   "file_extension": ".py",
   "mimetype": "text/x-python",
   "name": "python",
   "nbconvert_exporter": "python",
   "pygments_lexer": "ipython3",
   "version": "3.10.13"
  }
 },
 "nbformat": 4,
 "nbformat_minor": 2
}
